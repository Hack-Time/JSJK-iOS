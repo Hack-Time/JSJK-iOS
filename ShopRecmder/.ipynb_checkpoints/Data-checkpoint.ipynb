{
 "cells": [
  {
   "cell_type": "code",
   "execution_count": 1,
   "metadata": {},
   "outputs": [],
   "source": [
    "import csv\n",
    "import codecs\n",
    "import sys\n",
    "import datetime"
   ]
  },
  {
   "cell_type": "code",
   "execution_count": 10,
   "metadata": {},
   "outputs": [],
   "source": [
    "csvFile = codecs.open(\"./data.csv\", \"w\", \"utf_8_sig\")\n",
    "writer = csv.writer(csvFile)\n",
    "\n",
    "f = open(r'./Data.txt')\n",
    "lines = f.readlines()\n",
    "\n",
    "date_begin = '2015-12-24'\n",
    "data_end = '2018-12-23'\n",
    "date_format = '%Y-%m-%d'\n",
    "datetime_begin = datetime.datetime.strptime(date_begin, date_format)\n",
    "datetime_end = datetime.datetime.strptime(data_end, date_format)\n",
    "\n",
    "one_day = datetime.timedelta(days = 1)\n",
    "\n",
    "date_num = 0\n",
    "\n",
    "for line in lines:\n",
    "    if date_num == 366:\n",
    "        date_num = 0\n",
    "    datas = line.split(',')\n",
    "    for i in range(50):\n",
    "#         if datetime_begin.strftime(date_format) == '2018-06-18':\n",
    "#             print datas[i]\n",
    "#         print datetime_begin.strftime(date_format), i, datas[i]\n",
    "        writer.writerow([i, datetime_begin.strftime(date_format), datas[i]])\n",
    "#         writer.writerow([i, date_num, datas[i]])\n",
    "    datetime_begin += one_day\n",
    "#     date_num += 1\n",
    "    \n",
    "\n",
    "\n",
    "\n",
    "csvFile.close()"
   ]
  },
  {
   "cell_type": "code",
   "execution_count": null,
   "metadata": {},
   "outputs": [],
   "source": []
  },
  {
   "cell_type": "code",
   "execution_count": null,
   "metadata": {},
   "outputs": [],
   "source": []
  },
  {
   "cell_type": "code",
   "execution_count": null,
   "metadata": {},
   "outputs": [],
   "source": []
  },
  {
   "cell_type": "code",
   "execution_count": null,
   "metadata": {},
   "outputs": [],
   "source": []
  }
 ],
 "metadata": {
  "kernelspec": {
   "display_name": "Python 2",
   "language": "python",
   "name": "python2"
  },
  "language_info": {
   "codemirror_mode": {
    "name": "ipython",
    "version": 2
   },
   "file_extension": ".py",
   "mimetype": "text/x-python",
   "name": "python",
   "nbconvert_exporter": "python",
   "pygments_lexer": "ipython2",
   "version": "2.7.14"
  }
 },
 "nbformat": 4,
 "nbformat_minor": 2
}
